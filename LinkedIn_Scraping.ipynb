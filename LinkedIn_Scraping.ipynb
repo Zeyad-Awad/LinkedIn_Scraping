{
 "cells": [
  {
   "cell_type": "markdown",
   "metadata": {},
   "source": [
    "# Scraping LinkedIn Jobs list"
   ]
  },
  {
   "cell_type": "markdown",
   "metadata": {},
   "source": [
    "## Description:\n",
    "In this project we scrape couple of jobs on linked in that contain the keyword 'Python' in USA. \n",
    "We are using both Selenium and Beautiful Soup."
   ]
  },
  {
   "cell_type": "code",
   "execution_count": 1,
   "metadata": {},
   "outputs": [],
   "source": [
    "# Import our libraries\n",
    "import pandas as pd\n",
    "from bs4 import BeautifulSoup\n",
    "from selenium import webdriver\n",
    "import time"
   ]
  },
  {
   "cell_type": "markdown",
   "metadata": {},
   "source": [
    "## Accessing the website"
   ]
  },
  {
   "cell_type": "code",
   "execution_count": 2,
   "metadata": {},
   "outputs": [],
   "source": [
    "keyword = 'python' # We can change it to anything eg. mechanical engineer\n",
    "url = f'https://www.linkedin.com/jobs/search?keywords={keyword}'\n",
    "driver = webdriver.Chrome(executable_path='/usr/local/bin/chromedriver')\n",
    "driver.get(url)\n",
    "action = webdriver.ActionChains(driver)"
   ]
  },
  {
   "cell_type": "markdown",
   "metadata": {},
   "source": [
    "## Scrolling down the page and clicking See More button"
   ]
  },
  {
   "cell_type": "code",
   "execution_count": 3,
   "metadata": {},
   "outputs": [],
   "source": [
    "SCROLL_PAUSE_TIME = 5\n",
    "see_more_button = driver.find_element_by_xpath('//*[@id=\"main-content\"]/section[2]/button')\n",
    "i = 0  # This variable limits our search results\n",
    "\n",
    "# Get scroll height\n",
    "last_height = driver.execute_script(\"return document.body.scrollHeight\")\n",
    "\n",
    "while True:\n",
    "    # Scroll down to bottom\n",
    "    driver.execute_script(\"window.scrollTo(0, document.body.scrollHeight);\")\n",
    "    # Wait to load page\n",
    "    time.sleep(SCROLL_PAUSE_TIME)\n",
    "    # Calculate new scroll height and compare with last scroll height\n",
    "    new_height = driver.execute_script(\"return document.body.scrollHeight\")\n",
    "\n",
    "    # What if the website got stuck? we scroll up then down to refresh\n",
    "    if new_height == last_height:\n",
    "        driver.execute_script(\"window.scrollTo(0, document.body.scrollHeight);\")\n",
    "        driver.execute_script(\"window.scrollTo(0, -100);\")\n",
    "        driver.execute_script(\"window.scrollTo(0, document.body.scrollHeight);\")\n",
    "\n",
    "        try:\n",
    "            # Clicking see more if visible\n",
    "            see_more_button.click()\n",
    "            i = i + 1\n",
    "        except:\n",
    "            continue\n",
    "        \n",
    "    if i >= 10:\n",
    "        break    \n",
    "    last_height = new_height"
   ]
  },
  {
   "cell_type": "markdown",
   "metadata": {},
   "source": [
    "## Scraping the page source after loading the data"
   ]
  },
  {
   "cell_type": "code",
   "execution_count": 4,
   "metadata": {},
   "outputs": [],
   "source": [
    "source = driver.page_source\n",
    "soup = BeautifulSoup(source, 'html.parser')"
   ]
  },
  {
   "cell_type": "code",
   "execution_count": 5,
   "metadata": {},
   "outputs": [],
   "source": [
    "all_results = soup.find('ul', class_=\"jobs-search__results-list\")\n",
    "cards = all_results.find_all('li')"
   ]
  },
  {
   "cell_type": "code",
   "execution_count": 6,
   "metadata": {},
   "outputs": [
    {
     "data": {
      "text/plain": [
       "274"
      ]
     },
     "execution_count": 6,
     "metadata": {},
     "output_type": "execute_result"
    }
   ],
   "source": [
    "len(cards)"
   ]
  },
  {
   "cell_type": "markdown",
   "metadata": {},
   "source": [
    "## Constructing the Data Frame"
   ]
  },
  {
   "cell_type": "code",
   "execution_count": 7,
   "metadata": {},
   "outputs": [],
   "source": [
    "results = [] # This list will contain all the data\n",
    "\n",
    "for card in cards:\n",
    "    try:\n",
    "        link = card.div.a.get('href')  #JobLink\n",
    "    except:\n",
    "        link = ''\n",
    "    try:    \n",
    "        title = card.find('h3', class_=\"base-search-card__title\").text.strip() #JobTitle\n",
    "    except:\n",
    "        title = ''\n",
    "    try:    \n",
    "        company = card.find('h4', class_='base-search-card__subtitle').text.strip() #CompanyName\n",
    "    except:\n",
    "        company = ''\n",
    "    try:    \n",
    "        location = card.find('span', class_=\"job-search-card__location\").text.strip() #JobLocation\n",
    "    except:\n",
    "        location = ''\n",
    "    try:\n",
    "        salary = card.find('span', class_=\"job-search-card__salary-info\").text.strip() #JobSalary\n",
    "    except:\n",
    "        salary = ''   \n",
    "    try:     \n",
    "        date = card.time.get('datetime') #DatePosted\n",
    "    except:\n",
    "        date = ''    \n",
    "\n",
    "    dic = {'title':title, 'company':company, 'location':location, 'salary':salary, 'date':date, 'link':link}\n",
    "    results.append(dic)\n"
   ]
  },
  {
   "cell_type": "code",
   "execution_count": 8,
   "metadata": {},
   "outputs": [],
   "source": [
    "df = pd.DataFrame(results)"
   ]
  },
  {
   "cell_type": "code",
   "execution_count": 9,
   "metadata": {},
   "outputs": [
    {
     "data": {
      "text/html": [
       "<div>\n",
       "<style scoped>\n",
       "    .dataframe tbody tr th:only-of-type {\n",
       "        vertical-align: middle;\n",
       "    }\n",
       "\n",
       "    .dataframe tbody tr th {\n",
       "        vertical-align: top;\n",
       "    }\n",
       "\n",
       "    .dataframe thead th {\n",
       "        text-align: right;\n",
       "    }\n",
       "</style>\n",
       "<table border=\"1\" class=\"dataframe\">\n",
       "  <thead>\n",
       "    <tr style=\"text-align: right;\">\n",
       "      <th></th>\n",
       "      <th>title</th>\n",
       "      <th>company</th>\n",
       "      <th>location</th>\n",
       "      <th>salary</th>\n",
       "      <th>date</th>\n",
       "      <th>link</th>\n",
       "    </tr>\n",
       "  </thead>\n",
       "  <tbody>\n",
       "    <tr>\n",
       "      <th>0</th>\n",
       "      <td>Python Developer Entry Level</td>\n",
       "      <td>TEKtalent Inc</td>\n",
       "      <td>Denver, CO</td>\n",
       "      <td>$80,000 - $100,000</td>\n",
       "      <td>2021-12-29</td>\n",
       "      <td>https://www.linkedin.com/jobs/view/python-deve...</td>\n",
       "    </tr>\n",
       "    <tr>\n",
       "      <th>1</th>\n",
       "      <td>Junior Data Analyst</td>\n",
       "      <td>National Instruments</td>\n",
       "      <td>United States</td>\n",
       "      <td></td>\n",
       "      <td>2021-12-30</td>\n",
       "      <td></td>\n",
       "    </tr>\n",
       "    <tr>\n",
       "      <th>2</th>\n",
       "      <td>Artificial Intelligence Intern</td>\n",
       "      <td>Stats Perform</td>\n",
       "      <td>Chicago, IL</td>\n",
       "      <td></td>\n",
       "      <td>2021-12-30</td>\n",
       "      <td>https://www.linkedin.com/jobs/view/artificial-...</td>\n",
       "    </tr>\n",
       "    <tr>\n",
       "      <th>3</th>\n",
       "      <td>Software Engineer I</td>\n",
       "      <td>Vericast</td>\n",
       "      <td>Austin, TX</td>\n",
       "      <td></td>\n",
       "      <td>2021-12-30</td>\n",
       "      <td>https://www.linkedin.com/jobs/view/software-en...</td>\n",
       "    </tr>\n",
       "    <tr>\n",
       "      <th>4</th>\n",
       "      <td>Remote - Urgent Hiring - Job Role - \"Python De...</td>\n",
       "      <td>TechFetch.com - On Demand Tech Workforce hirin...</td>\n",
       "      <td>Home, KS</td>\n",
       "      <td></td>\n",
       "      <td>2021-12-30</td>\n",
       "      <td>https://www.linkedin.com/jobs/view/remote-urge...</td>\n",
       "    </tr>\n",
       "  </tbody>\n",
       "</table>\n",
       "</div>"
      ],
      "text/plain": [
       "                                               title  \\\n",
       "0                       Python Developer Entry Level   \n",
       "1                                Junior Data Analyst   \n",
       "2                     Artificial Intelligence Intern   \n",
       "3                                Software Engineer I   \n",
       "4  Remote - Urgent Hiring - Job Role - \"Python De...   \n",
       "\n",
       "                                             company       location  \\\n",
       "0                                      TEKtalent Inc     Denver, CO   \n",
       "1                               National Instruments  United States   \n",
       "2                                      Stats Perform    Chicago, IL   \n",
       "3                                           Vericast     Austin, TX   \n",
       "4  TechFetch.com - On Demand Tech Workforce hirin...       Home, KS   \n",
       "\n",
       "               salary        date  \\\n",
       "0  $80,000 - $100,000  2021-12-29   \n",
       "1                      2021-12-30   \n",
       "2                      2021-12-30   \n",
       "3                      2021-12-30   \n",
       "4                      2021-12-30   \n",
       "\n",
       "                                                link  \n",
       "0  https://www.linkedin.com/jobs/view/python-deve...  \n",
       "1                                                     \n",
       "2  https://www.linkedin.com/jobs/view/artificial-...  \n",
       "3  https://www.linkedin.com/jobs/view/software-en...  \n",
       "4  https://www.linkedin.com/jobs/view/remote-urge...  "
      ]
     },
     "execution_count": 9,
     "metadata": {},
     "output_type": "execute_result"
    }
   ],
   "source": [
    "df.head()"
   ]
  },
  {
   "cell_type": "markdown",
   "metadata": {},
   "source": [
    "## Sorting by date posted and exporting to CSV"
   ]
  },
  {
   "cell_type": "code",
   "execution_count": 10,
   "metadata": {},
   "outputs": [],
   "source": [
    "df.date = pd.to_datetime(df.date)\n",
    "df.sort_values(by='date', ascending=False, inplace=True)\n",
    "df.reset_index(drop=True, inplace=True)"
   ]
  },
  {
   "cell_type": "code",
   "execution_count": 11,
   "metadata": {},
   "outputs": [],
   "source": [
    "df.to_csv('linkedin_jobs.csv')"
   ]
  }
 ],
 "metadata": {
  "interpreter": {
   "hash": "5318f735ee1d03f20649cda02cf5326ec3677341580ddb1cc20c6235ab67c1d8"
  },
  "kernelspec": {
   "display_name": "Python 3.9.7 64-bit ('minimal_ds': conda)",
   "language": "python",
   "name": "python3"
  },
  "language_info": {
   "codemirror_mode": {
    "name": "ipython",
    "version": 3
   },
   "file_extension": ".py",
   "mimetype": "text/x-python",
   "name": "python",
   "nbconvert_exporter": "python",
   "pygments_lexer": "ipython3",
   "version": "3.9.7"
  },
  "orig_nbformat": 4
 },
 "nbformat": 4,
 "nbformat_minor": 2
}
